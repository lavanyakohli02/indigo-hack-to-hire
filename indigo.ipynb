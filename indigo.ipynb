{
  "nbformat": 4,
  "nbformat_minor": 0,
  "metadata": {
    "colab": {
      "provenance": []
    },
    "kernelspec": {
      "name": "python3",
      "display_name": "Python 3"
    },
    "language_info": {
      "name": "python"
    }
  },
  "cells": [
    {
      "cell_type": "code",
      "source": [
        "!pip install transformers datasets"
      ],
      "metadata": {
        "id": "tpjGko_uWK6t"
      },
      "execution_count": null,
      "outputs": []
    },
    {
      "cell_type": "code",
      "source": [
        "from datasets import load_dataset\n",
        "\n",
        "# Load the dataset\n",
        "raw_dataset = load_dataset(\"toughdata/quora-question-answer-dataset\")\n",
        "\n",
        "# Check the first few samples\n",
        "print(raw_dataset[\"train\"].to_pandas().head())"
      ],
      "metadata": {
        "id": "O3hNldniWMUv"
      },
      "execution_count": null,
      "outputs": []
    },
    {
      "cell_type": "code",
      "source": [
        "from transformers import AutoTokenizer\n",
        "\n",
        "# Choose a pre-trained tokenizer\n",
        "tokenizer = AutoTokenizer.from_pretrained(\"bert-base-uncased\")\n",
        "\n",
        "# Tokenize the dataset\n",
        "def preprocess_function(examples):\n",
        "    return tokenizer(examples['question'], examples['answer'], padding=\"max_length\", truncation=True)\n",
        "\n",
        "tokenized_dataset = raw_dataset.map(preprocess_function, batched=True)"
      ],
      "metadata": {
        "id": "o_QwfXdLWMYW"
      },
      "execution_count": null,
      "outputs": []
    },
    {
      "cell_type": "code",
      "source": [
        "from datasets import DatasetDict\n",
        "\n",
        "# Split the train dataset into train and validation sets\n",
        "train_test_split = tokenized_dataset[\"train\"].train_test_split(test_size=0.1)\n",
        "\n",
        "# Create a DatasetDict\n",
        "dataset = DatasetDict({\n",
        "    'train': train_test_split['train'],\n",
        "    'validation': train_test_split['test']\n",
        "})\n"
      ],
      "metadata": {
        "id": "EFTtAxySWMa8"
      },
      "execution_count": null,
      "outputs": []
    },
    {
      "cell_type": "code",
      "source": [
        "from transformers import AutoModelForQuestionAnswering, TrainingArguments, Trainer\n",
        "\n",
        "# Load a pre-trained model\n",
        "model = AutoModelForQuestionAnswering.from_pretrained(\"bert-base-uncased\")\n",
        "\n",
        "# Define training arguments\n",
        "training_args = TrainingArguments(\n",
        "    output_dir=\"./results\",\n",
        "    evaluation_strategy=\"epoch\",\n",
        "    learning_rate=2e-5,\n",
        "    per_device_train_batch_size=16,\n",
        "    per_device_eval_batch_size=16,\n",
        "    num_train_epochs=3,\n",
        "    weight_decay=0.01,\n",
        ")\n",
        "\n",
        "# Define a trainer\n",
        "trainer = Trainer(\n",
        "    model=model,\n",
        "    args=training_args,\n",
        "    train_dataset=dataset[\"train\"],\n",
        "    eval_dataset=dataset[\"validation\"]\n",
        ")\n",
        "\n",
        "# Train the model\n",
        "trainer.train()"
      ],
      "metadata": {
        "id": "UYtYlYBaWMdT"
      },
      "execution_count": null,
      "outputs": []
    },
    {
      "cell_type": "code",
      "source": [
        "trainer.evaluate()"
      ],
      "metadata": {
        "id": "m2YGFU5aWMfX"
      },
      "execution_count": null,
      "outputs": []
    },
    {
      "cell_type": "code",
      "source": [
        "model.save_pretrained(\"./qa_model\")\n",
        "tokenizer.save_pretrained(\"./qa_model\")"
      ],
      "metadata": {
        "id": "bWT_qpUpWMjR"
      },
      "execution_count": null,
      "outputs": []
    },
    {
      "cell_type": "code",
      "source": [
        "from transformers import pipeline\n",
        "\n",
        "# Load the fine-tuned model and tokenizer\n",
        "qa_pipeline = pipeline(\"question-answering\", model=\"./qa_model\", tokenizer=\"./qa_model\")\n",
        "\n",
        "# Define a function to answer questions\n",
        "def answer_question(question, context):\n",
        "    return qa_pipeline(question=question, context=context)\n",
        "\n",
        "# Example usage\n",
        "context = \"The Quora Question Answer Dataset is a resource for training AI models to understand and generate accurate responses.\"\n",
        "question = \"What is the Quora Question Answer Dataset?\"\n",
        "answer = answer_question(question, context)\n",
        "\n",
        "print(f\"Question: {question}\")\n",
        "print(f\"Answer: {answer['answer']}\")"
      ],
      "metadata": {
        "id": "cTaA29DzWMlp"
      },
      "execution_count": null,
      "outputs": []
    }
  ]
}